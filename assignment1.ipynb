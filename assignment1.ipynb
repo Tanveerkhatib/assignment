{
 "cells": [
  {
   "cell_type": "code",
   "execution_count": null,
   "id": "38e3cce2-1276-4772-b1bf-cd0bd3fac2cf",
   "metadata": {},
   "outputs": [],
   "source": [
    "Guido van Rossum"
   ]
  },
  {
   "cell_type": "code",
   "execution_count": null,
   "id": "fa6adccc-9c4e-47d1-90b9-ed96a262cd98",
   "metadata": {},
   "outputs": [],
   "source": [
    "it is a multi paradigm programming language\n",
    "object oreinted programming\n",
    "aspect oreinted programming\n",
    "functional programming"
   ]
  },
  {
   "cell_type": "code",
   "execution_count": null,
   "id": "bc774405-9bfa-4c75-9b61-814126996053",
   "metadata": {},
   "outputs": [],
   "source": [
    "yes"
   ]
  },
  {
   "cell_type": "code",
   "execution_count": null,
   "id": "698b73d2-a699-45d7-b83a-bd12c113c4e3",
   "metadata": {},
   "outputs": [],
   "source": [
    ".py"
   ]
  },
  {
   "cell_type": "code",
   "execution_count": null,
   "id": "d6f81bbb-8e81-4229-aca8-1f57a6617d77",
   "metadata": {},
   "outputs": [],
   "source": [
    "phyton code is interpreted"
   ]
  },
  {
   "cell_type": "code",
   "execution_count": null,
   "id": "dc1517f8-6665-40e0-9c2d-cfef31b28fe9",
   "metadata": {},
   "outputs": [],
   "source": [
    "[]\n",
    "{}\n",
    "indentation \n",
    "etc"
   ]
  },
  {
   "cell_type": "code",
   "execution_count": null,
   "id": "514a408c-c13e-4e5c-bb9d-00384fc7e7c5",
   "metadata": {},
   "outputs": [],
   "source": [
    "# is used for single line comment"
   ]
  },
  {
   "cell_type": "code",
   "execution_count": null,
   "id": "4e6a7de1-9711-4fc7-873e-a60b65592ded",
   "metadata": {},
   "outputs": [],
   "source": [
    "sys.version"
   ]
  },
  {
   "cell_type": "markdown",
   "id": "fef43231-d349-40be-9188-da41ae72bc62",
   "metadata": {},
   "source": [
    "lambda"
   ]
  },
  {
   "cell_type": "code",
   "execution_count": null,
   "id": "e9e341d2-88d4-48a0-9af2-abb51eea6bcb",
   "metadata": {},
   "outputs": [],
   "source": [
    "preffered installer program"
   ]
  },
  {
   "cell_type": "code",
   "execution_count": null,
   "id": "170b7b49-2ed3-4b01-a98c-05a9a5033aa7",
   "metadata": {},
   "outputs": [],
   "source": [
    "print()\n",
    "type()\n",
    "int()\n",
    "etc"
   ]
  },
  {
   "cell_type": "code",
   "execution_count": null,
   "id": "bdf82620-4a17-464b-bc16-9df56696dfd0",
   "metadata": {},
   "outputs": [],
   "source": [
    "79"
   ]
  },
  {
   "cell_type": "code",
   "execution_count": null,
   "id": "5553e3e4-b900-4218-a46f-2089269b3f3f",
   "metadata": {},
   "outputs": [],
   "source": [
    "Data science.\n",
    "Scientific and mathematical computing.\n",
    "Web development.\n",
    "Finance and trading.\n",
    "System automation and administration.\n",
    "Computer graphics.\n",
    "Basic game development.\n",
    "Security and penetration testing.\n",
    "\n"
   ]
  },
  {
   "cell_type": "code",
   "execution_count": null,
   "id": "8f8836fd-a59e-490e-8a4f-bb9343c928bb",
   "metadata": {},
   "outputs": [],
   "source": [
    "Python involves a private heap containing all Python objects and data structures.\n",
    "The management of this private heap is ensured internally by the Python memory manager."
   ]
  },
  {
   "cell_type": "code",
   "execution_count": null,
   "id": "2b62a0d4-879f-42d9-af81-4cca93b9b069",
   "metadata": {},
   "outputs": [],
   "source": [
    "1) Right-clicking This PC and going to Properties.\n",
    "\n",
    "2) Clicking on the Advanced system settings in the menu on the left.\n",
    "\n",
    "3) Clicking on the Environment Variables button o​n the bottom right.\n",
    "\n",
    "4) In the System variables section, selecting the Path variable and clicking on Edit. \n",
    "The next screen will show all the directories that are currently a part of the PATH variable.\n",
    "\n",
    "5)Clicking on New and entering Python’s install directory."
   ]
  },
  {
   "cell_type": "code",
   "execution_count": null,
   "id": "949c9816-451d-4919-8145-280d1a31987a",
   "metadata": {},
   "outputs": [],
   "source": [
    "yes indentation is required in phyton"
   ]
  }
 ],
 "metadata": {
  "kernelspec": {
   "display_name": "Python 3 (ipykernel)",
   "language": "python",
   "name": "python3"
  },
  "language_info": {
   "codemirror_mode": {
    "name": "ipython",
    "version": 3
   },
   "file_extension": ".py",
   "mimetype": "text/x-python",
   "name": "python",
   "nbconvert_exporter": "python",
   "pygments_lexer": "ipython3",
   "version": "3.10.8"
  }
 },
 "nbformat": 4,
 "nbformat_minor": 5
}
